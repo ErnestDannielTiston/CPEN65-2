{
  "nbformat": 4,
  "nbformat_minor": 0,
  "metadata": {
    "colab": {
      "provenance": [],
      "authorship_tag": "ABX9TyOFw51enL0ktxTcRdQ41bqF",
      "include_colab_link": true
    },
    "kernelspec": {
      "name": "python3",
      "display_name": "Python 3"
    },
    "language_info": {
      "name": "python"
    }
  },
  "cells": [
    {
      "cell_type": "markdown",
      "metadata": {
        "id": "view-in-github",
        "colab_type": "text"
      },
      "source": [
        "<a href=\"https://colab.research.google.com/github/ErnestDannielTiston/CPEN65-2/blob/main/Array.ipynb\" target=\"_parent\"><img src=\"https://colab.research.google.com/assets/colab-badge.svg\" alt=\"Open In Colab\"/></a>"
      ]
    },
    {
      "cell_type": "code",
      "execution_count": 9,
      "metadata": {
        "colab": {
          "base_uri": "https://localhost:8080/"
        },
        "id": "lMFPgczWt4xm",
        "outputId": "4b838ff2-b580-461b-928a-69573ee4ff3c"
      },
      "outputs": [
        {
          "output_type": "stream",
          "name": "stdout",
          "text": [
            "Array[0] = cat\n",
            "Array[1] = dog\n",
            "Array[2] = fish\n"
          ]
        }
      ],
      "source": [
        "#Accesing the elements in an array\n",
        "animals = [\"cat\", \"dog\", \"fish\"]\n",
        "\n",
        "x = animals[0]\n",
        "y = animals[1]\n",
        "z = animals[2]\n",
        "\n",
        "print(\"Array[0] =\", x)\n",
        "print(\"Array[1] =\", y)\n",
        "print(\"Array[2] =\", z)"
      ]
    },
    {
      "cell_type": "code",
      "source": [
        "#Modifying the elements in an array\n",
        "animals = [\"cat\", \"dog\", \"fish\"]\n",
        "animals[0] = \"monkey\"\n",
        "x = animals[0]\n",
        "print(\"Array[0] =\", x)\n",
        "print(animals)"
      ],
      "metadata": {
        "colab": {
          "base_uri": "https://localhost:8080/"
        },
        "id": "9rFL24897o8d",
        "outputId": "49c73680-c268-4d3b-ae00-0fdb1488051b"
      },
      "execution_count": 15,
      "outputs": [
        {
          "output_type": "stream",
          "name": "stdout",
          "text": [
            "Array[0] = monkey\n",
            "['monkey', 'dog', 'fish']\n"
          ]
        }
      ]
    },
    {
      "cell_type": "code",
      "source": [
        "#Length of the Array\n",
        "animals = [\"monkey\", \"dog\", \"fish\", \"cat\", \"birds\"]\n",
        "v = len(animals)\n",
        "print(v)"
      ],
      "metadata": {
        "colab": {
          "base_uri": "https://localhost:8080/"
        },
        "id": "eZrPCFvwsMD5",
        "outputId": "93b8438d-7c56-4179-ce87-8e7bad63f877"
      },
      "execution_count": 3,
      "outputs": [
        {
          "output_type": "stream",
          "name": "stdout",
          "text": [
            "5\n"
          ]
        }
      ]
    },
    {
      "cell_type": "code",
      "source": [
        "#Looping Array Elements\n",
        "animals = [\"monkey\", \"dog\", \"fish\", \"cat\", \"birds\"]\n",
        "for x in animals:\n",
        "  print(x)"
      ],
      "metadata": {
        "colab": {
          "base_uri": "https://localhost:8080/"
        },
        "id": "4_-YN48as7wp",
        "outputId": "966dda15-b41a-45a6-e146-68f6d47db0e9"
      },
      "execution_count": 4,
      "outputs": [
        {
          "output_type": "stream",
          "name": "stdout",
          "text": [
            "monkey\n",
            "dog\n",
            "fish\n",
            "cat\n",
            "birds\n"
          ]
        }
      ]
    },
    {
      "cell_type": "code",
      "source": [
        "animals = [\"monkey\", \"dog\", \"fish\", \"cat\", \"birds\"]\n",
        "for index, val in enumerate(animals):\n",
        "  print(index,val)"
      ],
      "metadata": {
        "colab": {
          "base_uri": "https://localhost:8080/"
        },
        "id": "-7YX0FxZux-b",
        "outputId": "7eb77882-4eee-46eb-f425-36b1ff0ded21"
      },
      "execution_count": 5,
      "outputs": [
        {
          "output_type": "stream",
          "name": "stdout",
          "text": [
            "0 monkey\n",
            "1 dog\n",
            "2 fish\n",
            "3 cat\n",
            "4 birds\n"
          ]
        }
      ]
    },
    {
      "cell_type": "code",
      "source": [
        "animals = [\"monkey\", \"dog\", \"fish\", \"cat\", \"birds\"]\n",
        "animals.append('lion')\n",
        "print(animals)"
      ],
      "metadata": {
        "colab": {
          "base_uri": "https://localhost:8080/"
        },
        "id": "x-8WYGzYwS92",
        "outputId": "ee22661d-4762-43f9-8c7e-e69021c525f0"
      },
      "execution_count": 7,
      "outputs": [
        {
          "output_type": "stream",
          "name": "stdout",
          "text": [
            "['monkey', 'dog', 'fish', 'cat', 'birds', 'lion']\n",
            "0 monkey\n",
            "1 dog\n",
            "2 fish\n",
            "3 cat\n",
            "4 birds\n",
            "5 lion\n"
          ]
        }
      ]
    },
    {
      "cell_type": "code",
      "source": [
        "#Write a Python program to insert a new item (\"11\") before the second element in an existing array\n",
        "numbers = [1,2,3,4,5,6,7,8,9,10]\n",
        "numbers.insert(1,11)\n",
        "print(numbers)"
      ],
      "metadata": {
        "colab": {
          "base_uri": "https://localhost:8080/"
        },
        "id": "jgojSw0sxITD",
        "outputId": "50a42372-9257-4814-f29c-eee1be7a421d"
      },
      "execution_count": 23,
      "outputs": [
        {
          "output_type": "stream",
          "name": "stdout",
          "text": [
            "[1, 11, 2, 3, 4, 5, 6, 7, 8, 9, 10]\n"
          ]
        }
      ]
    },
    {
      "cell_type": "code",
      "source": [
        "#Removing element/s in an Array\n",
        "print(numbers)\n",
        "numbers.pop(1)\n",
        "print(numbers)"
      ],
      "metadata": {
        "colab": {
          "base_uri": "https://localhost:8080/"
        },
        "id": "WMUSrXhiysAg",
        "outputId": "1b405f99-2e10-45aa-af8d-42946fa7bc74"
      },
      "execution_count": 25,
      "outputs": [
        {
          "output_type": "stream",
          "name": "stdout",
          "text": [
            "[1, 11, 2, 3, 4, 5, 6, 7, 8, 9, 10]\n",
            "[1, 2, 3, 4, 5, 6, 7, 8, 9, 10]\n"
          ]
        }
      ]
    }
  ]
}