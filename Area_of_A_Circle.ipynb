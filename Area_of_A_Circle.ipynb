{
  "nbformat": 4,
  "nbformat_minor": 0,
  "metadata": {
    "colab": {
      "provenance": [],
      "authorship_tag": "ABX9TyNsv1W7XKfeOkoWTaiCzZ7v",
      "include_colab_link": true
    },
    "kernelspec": {
      "name": "python3",
      "display_name": "Python 3"
    },
    "language_info": {
      "name": "python"
    }
  },
  "cells": [
    {
      "cell_type": "markdown",
      "metadata": {
        "id": "view-in-github",
        "colab_type": "text"
      },
      "source": [
        "<a href=\"https://colab.research.google.com/github/ErnestDannielTiston/CPEN65-2/blob/main/Area_of_A_Circle.ipynb\" target=\"_parent\"><img src=\"https://colab.research.google.com/assets/colab-badge.svg\" alt=\"Open In Colab\"/></a>"
      ]
    },
    {
      "cell_type": "markdown",
      "source": [
        "Area of A Circle"
      ],
      "metadata": {
        "id": "oh7QkRqo7KrM"
      }
    },
    {
      "cell_type": "code",
      "execution_count": 22,
      "metadata": {
        "colab": {
          "base_uri": "https://localhost:8080/"
        },
        "id": "bXYh97Qp7Jx-",
        "outputId": "4fa0f8fa-48bc-4032-ebd9-2c135b8914e0"
      },
      "outputs": [
        {
          "output_type": "stream",
          "name": "stdout",
          "text": [
            "Radius or Diameter: u\n",
            "\n",
            "\n",
            "Please specify the given value\n"
          ]
        }
      ],
      "source": [
        "import math\n",
        "\n",
        "value = input(\"Radius or Diameter: \").capitalize()\n",
        "\n",
        "class Radius:\n",
        "  def __init__(self,rad):\n",
        "    self.rad = rad\n",
        "\n",
        "  def area1(self):\n",
        "    return pi * (int(self.rad) ** 2)\n",
        "\n",
        "  def display(self):\n",
        "    print('\\n')\n",
        "    print(\"The circle's area is\",  round(self.area1(),2))\n",
        "\n",
        "class Diameter:\n",
        "  def __init__(self,diameter):\n",
        "    self.diameter = diameter\n",
        "\n",
        "  def area2(self):\n",
        "    return pi * (int(self.diameter) ** 2)/4\n",
        "\n",
        "  def display(self):\n",
        "    print('\\n')\n",
        "    print(\"The circle's area is\", round(self.area2(),2))\n",
        "\n",
        "if value != \"Diameter\" and value != \"Radius\":\n",
        "  print('\\n')\n",
        "  print(\"Please specify the given value\")\n",
        "\n",
        "if value == \"Radius\":\n",
        "  R = Radius(float(input(\"Radius: \")))\n",
        "  R.display()\n",
        "\n",
        "if value == \"Diameter\":\n",
        "  D = Diameter(float(input(\"Diameter: \")))\n",
        "  D.display()\n"
      ]
    }
  ]
}