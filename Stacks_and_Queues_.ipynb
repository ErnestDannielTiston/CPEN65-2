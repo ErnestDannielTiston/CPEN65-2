{
  "nbformat": 4,
  "nbformat_minor": 0,
  "metadata": {
    "colab": {
      "provenance": [],
      "authorship_tag": "ABX9TyObCBOLttpKZ7EmHj7GIol4",
      "include_colab_link": true
    },
    "kernelspec": {
      "name": "python3",
      "display_name": "Python 3"
    },
    "language_info": {
      "name": "python"
    }
  },
  "cells": [
    {
      "cell_type": "markdown",
      "metadata": {
        "id": "view-in-github",
        "colab_type": "text"
      },
      "source": [
        "<a href=\"https://colab.research.google.com/github/ErnestDannielTiston/CPEN65-2/blob/main/Stacks_and_Queues_.ipynb\" target=\"_parent\"><img src=\"https://colab.research.google.com/assets/colab-badge.svg\" alt=\"Open In Colab\"/></a>"
      ]
    },
    {
      "cell_type": "code",
      "execution_count": null,
      "metadata": {
        "colab": {
          "base_uri": "https://localhost:8080/"
        },
        "id": "_Uk4oEs_DkSR",
        "outputId": "4b5e0d19-25a2-48e2-f6f2-3f8240dfee1a"
      },
      "outputs": [
        {
          "output_type": "stream",
          "name": "stdout",
          "text": [
            "[1, 2, 3]\n",
            "[1, 2]\n",
            "[1]\n"
          ]
        }
      ],
      "source": [
        "class Stack:\n",
        "  def __init__(self):\n",
        "    self.stack =[]\n",
        "\n",
        "  def push(self,dataval):\n",
        "    if dataval not in self.stack:\n",
        "      return self.stack.append(dataval)\n",
        "    else:\n",
        "      return False\n",
        "  def pop(self):\n",
        "    if len(self.stack)<=0:\n",
        "      return \"Stack is empty\"\n",
        "    else:\n",
        "      return self.stack.pop()\n",
        "\n",
        "AStack = Stack()\n",
        "AStack.push(1)\n",
        "AStack.push(2)\n",
        "AStack.push(3)\n",
        "\n",
        "print(AStack.stack)\n",
        "\n",
        "AStack.pop()\n",
        "print(AStack.stack)\n",
        "AStack.pop()\n",
        "print(AStack.stack)"
      ]
    },
    {
      "cell_type": "code",
      "source": [
        "#Application 1\n",
        "\n",
        "#implent the above program by Queues Data Structure (enqueue and dequeue/ FIFO principle)\n",
        "\n",
        "class Queue:\n",
        "  def __init__(self):\n",
        "    self.queue =[]\n",
        "\n",
        "  def enqueue(self,dataval):\n",
        "    if dataval not in self.queue:\n",
        "      return self.queue.append(dataval)\n",
        "    else:\n",
        "      return False\n",
        "  def dequeue(self):\n",
        "    if len(self.queue)<=0:\n",
        "      return \"Queues is empty\"\n",
        "    else:\n",
        "      return self.queue.pop(0)\n",
        "\n",
        "AQueue = Queue()\n",
        "AQueue.enqueue(1)\n",
        "AQueue.enqueue(2)\n",
        "AQueue.enqueue(3)\n",
        "AQueue.enqueue(4)\n",
        "\n",
        "print(AQueue.queue)\n",
        "AQueue.dequeue()\n",
        "print(AQueue.queue)\n",
        "AQueue.dequeue()\n",
        "print(AQueue.queue)\n",
        "AQueue.dequeue()\n",
        "print(AQueue.queue)\n",
        "AQueue.dequeue()\n",
        "print(AQueue.queue)\n",
        "AQueue.dequeue()\n",
        "print(AQueue.dequeue())"
      ],
      "metadata": {
        "colab": {
          "base_uri": "https://localhost:8080/"
        },
        "id": "h2Ikz_Krl75j",
        "outputId": "592d7dca-17e6-4e6e-b3e6-c335ef708908"
      },
      "execution_count": 20,
      "outputs": [
        {
          "output_type": "stream",
          "name": "stdout",
          "text": [
            "[1, 2, 3, 4]\n",
            "[2, 3, 4]\n",
            "[3, 4]\n",
            "[4]\n",
            "[]\n",
            "Queues is empty\n"
          ]
        }
      ]
    }
  ]
}