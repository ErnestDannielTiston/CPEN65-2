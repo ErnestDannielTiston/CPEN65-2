{
  "nbformat": 4,
  "nbformat_minor": 0,
  "metadata": {
    "colab": {
      "provenance": [],
      "authorship_tag": "ABX9TyOXh3eS5HJeT931q3WoFp3g",
      "include_colab_link": true
    },
    "kernelspec": {
      "name": "python3",
      "display_name": "Python 3"
    },
    "language_info": {
      "name": "python"
    }
  },
  "cells": [
    {
      "cell_type": "markdown",
      "metadata": {
        "id": "view-in-github",
        "colab_type": "text"
      },
      "source": [
        "<a href=\"https://colab.research.google.com/github/ErnestDannielTiston/CPEN65-2/blob/main/Tiston%2C_Ernest_Danniel_R_Midterm_Exam.ipynb\" target=\"_parent\"><img src=\"https://colab.research.google.com/assets/colab-badge.svg\" alt=\"Open In Colab\"/></a>"
      ]
    },
    {
      "cell_type": "code",
      "execution_count": null,
      "metadata": {
        "colab": {
          "base_uri": "https://localhost:8080/"
        },
        "id": "S-gvo_Ap_XcJ",
        "outputId": "34b2e398-ffa3-4b9f-dd4e-29acbf76b301"
      },
      "outputs": [
        {
          "output_type": "stream",
          "name": "stdout",
          "text": [
            "Array[0] 1\n",
            "Array[1] 52\n",
            "Array[2] 31\n",
            "Array[3] 7\n",
            "Array[4] 10\n",
            "Array[5] 15\n",
            "Array[6] 11\n",
            "Array[7] 3\n",
            "Array[8] 9\n",
            "Array[9] 19\n",
            "\n",
            "\n",
            "The sum of the array is 158\n"
          ]
        }
      ],
      "source": [
        "#1.\tWrite a Python program to create an array of 10 integers and display the array items. Access individual elements through indexes and compute for the sum.\n",
        "from array import *\n",
        "arr_num = array('i', [1,52,31,7,10,15,11,3,9,19])\n",
        "print(\"Array[0]\", arr_num[0])\n",
        "print(\"Array[1]\", arr_num[1])\n",
        "print(\"Array[2]\", arr_num[2])\n",
        "print(\"Array[3]\", arr_num[3])\n",
        "print(\"Array[4]\", arr_num[4])\n",
        "print(\"Array[5]\", arr_num[5])\n",
        "print(\"Array[6]\", arr_num[6])\n",
        "print(\"Array[7]\", arr_num[7])\n",
        "print(\"Array[8]\", arr_num[8])\n",
        "print(\"Array[9]\", arr_num[9])\n",
        "\n",
        "sum = 0\n",
        "for index in range (10):\n",
        "  sum += arr_num[index]\n",
        "print('\\n')\n",
        "print(f'The sum of the array is {sum}')\n",
        "\n"
      ]
    },
    {
      "cell_type": "code",
      "source": [
        "#2.\tWrite a Python program to append a new item to the end of the array. Original array: numbers = [1, 2, 3, 4, 5, 6, 7, 8, 9, 10]\n",
        "import array as arr\n",
        "arr = [1, 2, 3, 4, 5, 6, 7, 8, 9, 10]\n",
        "print(\"The initial array is\", arr)\n",
        "\n",
        "num = int(input(\"Please input your desired number:\"))\n",
        "arr.append(num)\n",
        "print(\"The appended array is\",arr)"
      ],
      "metadata": {
        "colab": {
          "base_uri": "https://localhost:8080/"
        },
        "id": "KZu3FsEIExjb",
        "outputId": "3efcb993-af7c-496a-cedf-e27eb9eb8529"
      },
      "execution_count": null,
      "outputs": [
        {
          "output_type": "stream",
          "name": "stdout",
          "text": [
            "The initial array is [1, 2, 3, 4, 5, 6, 7, 8, 9, 10]\n",
            "Please input your desired number:11\n",
            "The appended array is [1, 2, 3, 4, 5, 6, 7, 8, 9, 10, 11]\n"
          ]
        }
      ]
    },
    {
      "cell_type": "code",
      "source": [
        "#3.\tWrite a Python program to insert a new item before the second element in an existing array. Original array: numbers = [1, 2, 3, 4, 5, 6, 7, 8, 9, 10]\n",
        "import array as arr\n",
        "arr = [1,2,3,4,5,6,7,8,9,10]\n",
        "print(\"The initial array is\", arr)\n",
        "a = int(input(\"Please input your desired number:\"))\n",
        "arr.insert(1,a)\n",
        "print(\"The appended array is\", arr)\n"
      ],
      "metadata": {
        "colab": {
          "base_uri": "https://localhost:8080/"
        },
        "id": "6gtiFBhLEyNr",
        "outputId": "30033e69-0ad5-4ad2-e627-3edd96ebcbe3"
      },
      "execution_count": null,
      "outputs": [
        {
          "output_type": "stream",
          "name": "stdout",
          "text": [
            "The initial array is [1, 2, 3, 4, 5, 6, 7, 8, 9, 10]\n",
            "Please input your desired number:56\n",
            "The appended array is [1, 56, 2, 3, 4, 5, 6, 7, 8, 9, 10]\n"
          ]
        }
      ]
    },
    {
      "cell_type": "code",
      "source": [
        "#4.\tWrite a Python program to reverse the order of the items in the array. Original array: numbers = [5, 4, 3, 2, 1]\n",
        "\n",
        "import array as arr\n",
        "arr = [5,4,3,2,1]\n",
        "arr.reverse()\n",
        "print(\"The reverse order of the items in the array is \", arr)"
      ],
      "metadata": {
        "colab": {
          "base_uri": "https://localhost:8080/"
        },
        "id": "5aNI0fJsKgMt",
        "outputId": "b316df14-358c-4545-de2e-78c7ec9f6678"
      },
      "execution_count": 50,
      "outputs": [
        {
          "output_type": "stream",
          "name": "stdout",
          "text": [
            "The reverse order of the items in the array is  [1, 2, 3, 4, 5]\n"
          ]
        }
      ]
    },
    {
      "cell_type": "code",
      "source": [
        "#5.\tWrite a Python program to get the length of the array. Original array: numbers = [5, 4, 3, 2, 1]\n",
        "\n",
        "from array import *\n",
        "numbers = [1,2,3,4,5]\n",
        "a = len(numbers)\n",
        "print(\"The lenght of the array is: \", a)"
      ],
      "metadata": {
        "colab": {
          "base_uri": "https://localhost:8080/"
        },
        "id": "P3LQg525Kge0",
        "outputId": "b2c8b153-3be3-45a4-d417-8d8f67312815"
      },
      "execution_count": null,
      "outputs": [
        {
          "output_type": "stream",
          "name": "stdout",
          "text": [
            "The lenght of the array is:  5\n"
          ]
        }
      ]
    }
  ]
}